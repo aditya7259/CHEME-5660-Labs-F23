{
 "cells": [
  {
   "cell_type": "markdown",
   "id": "045cc9d5-3eb6-4ea1-bc63-c468d8bb859c",
   "metadata": {},
   "source": [
    "# Lab 10b: Computing the Sensitivity of American Option Contracts - `The Greeks`\n",
    "\n",
    "The price of options contracts is sensitive to market conditions, e.g., the share price of the underlying asset, the number of days before the contract expires, the implied volatility, and other factors such as the value for the `risk-free rate` used in the risk-neutral pricing. The sensitivity of the options price can be characterized by sensitivity coefficients collectively called `The Greeks`:\n",
    "\n",
    "* `Delta` measures the change in the option contract price with respect to a `1 USD` increase in the share price of the underlying asset\n",
    "* `Gamma` measures the rate of change in an option’s `Delta` per a `1 USD`  change in the underlying stock’s share price.\n",
    "* `Theta` measures how the price of an option contract decreases each day as the option nears expiration, with all other factors held constant. \n",
    "* `Vega` measures the rate of change in an option’s price per one-percentage-point change in the implied volatility of the underlying stock.\n",
    "* `Rho` measures the expected change in an option’s price per a one-percentage-point change in interest rates, i.e., It tells you how much the price of an option should rise or fall if the risk-free interest rate increases or decreases.\n",
    "\n",
    "### Learning objective\n",
    "The objective of `Lab 10b` is to familrize stduents with computing some common `Greeks`, namely `delta` and `theta` for American `call` and `put` contracts.\n",
    "\n",
    "* __Task 1__: Build `Call` and `Put` contract models for `MU` options\n",
    "* __Task 2__: Compute the premium of `52-DTE` options on `MU` using the CRR method\n",
    "* __Task 3__: Compute `delta` for `52-DTE` `call` and `put` options contracts on `MU`\n",
    "* __Task 4__: Compute `theta` for `52-DTE` `call` and `put` options coontracts on `MU`"
   ]
  },
  {
   "cell_type": "markdown",
   "id": "540f3a22-a804-4dee-a198-8d9650ce3b75",
   "metadata": {},
   "source": [
    "## Setup\n",
    "We set up the computational environment by including the `Include.jl` file. The `Include.jl` file loads external packages, various functions that we will use in the exercise, and custom types to model the components of our example problem."
   ]
  },
  {
   "cell_type": "code",
   "execution_count": 1,
   "id": "05ee138d-b302-4ee2-bbf9-142309c13499",
   "metadata": {
    "tags": []
   },
   "outputs": [
    {
     "name": "stderr",
     "output_type": "stream",
     "text": [
      "\u001b[32m\u001b[1m    Updating\u001b[22m\u001b[39m git-repo `https://github.com/varnerlab/VLQuantitativeFinancePackage.jl.git`\n",
      "\u001b[32m\u001b[1m   Resolving\u001b[22m\u001b[39m package versions...\n",
      "\u001b[32m\u001b[1m  No Changes\u001b[22m\u001b[39m to `~/Desktop/julia_work/CHEME-5660-Labs-F23/Project.toml`\n",
      "\u001b[32m\u001b[1m  No Changes\u001b[22m\u001b[39m to `~/Desktop/julia_work/CHEME-5660-Labs-F23/Manifest.toml`\n",
      "\u001b[32m\u001b[1m  Activating\u001b[22m\u001b[39m project at `~/Desktop/julia_work/CHEME-5660-Labs-F23`\n",
      "\u001b[32m\u001b[1m  No Changes\u001b[22m\u001b[39m to `~/Desktop/julia_work/CHEME-5660-Labs-F23/Project.toml`\n",
      "\u001b[32m\u001b[1m  No Changes\u001b[22m\u001b[39m to `~/Desktop/julia_work/CHEME-5660-Labs-F23/Manifest.toml`\n",
      "\u001b[32m\u001b[1m    Updating\u001b[22m\u001b[39m registry at `~/.julia/registries/General.toml`\n",
      "\u001b[32m\u001b[1m    Updating\u001b[22m\u001b[39m git-repo `https://github.com/varnerlab/VLQuantitativeFinancePackage.jl.git`\n",
      "\u001b[32m\u001b[1m  No Changes\u001b[22m\u001b[39m to `~/Desktop/julia_work/CHEME-5660-Labs-F23/Project.toml`\n",
      "\u001b[32m\u001b[1m  No Changes\u001b[22m\u001b[39m to `~/Desktop/julia_work/CHEME-5660-Labs-F23/Manifest.toml`\n"
     ]
    }
   ],
   "source": [
    "include(\"Include.jl\");"
   ]
  },
  {
   "cell_type": "markdown",
   "id": "16f4e1b4-21b6-469b-aa62-914e1b3f90e5",
   "metadata": {},
   "source": [
    "### Constants"
   ]
  },
  {
   "cell_type": "code",
   "execution_count": 2,
   "id": "1e6181fe-16a2-4561-af06-7fddd0152f19",
   "metadata": {
    "tags": []
   },
   "outputs": [],
   "source": [
    "Δt = (1/365);\n",
    "DTE = 52*Δt;\n",
    "r̄ = 0.0505; # 2-year T-bill\n",
    "h = 520; # number of levels in the tree\n",
    "θ = -1; # our data is for short contracts, need to correct the direction"
   ]
  },
  {
   "cell_type": "markdown",
   "id": "2ff31289-36f3-4619-a533-3216b0f27a99",
   "metadata": {},
   "source": [
    "## Data for a `52-DTE` `call` contract with `K = 70` for `MU`\n",
    "<div>\n",
    "    <center>\n",
    "        <img src=\"figs/MU-Call-52-DTE.png\" width=\"980\"/>\n",
    "    </center>\n",
    "</div>"
   ]
  },
  {
   "cell_type": "markdown",
   "id": "72efad1e-70e5-4224-bd9e-534d47f30a17",
   "metadata": {},
   "source": [
    "## Data for a `52-DTE` `put` contract with `K = 65` for `MU`\n",
    "<div>\n",
    "    <center>\n",
    "        <img src=\"figs/MU-Put-52-DTE.png\" width=\"980\"/>\n",
    "    </center>\n",
    "</div>"
   ]
  },
  {
   "cell_type": "markdown",
   "id": "af638984-f702-41ed-b792-1f21d4bb1cc8",
   "metadata": {},
   "source": [
    "## Task 1: Build `Call` and `Put` contract models for `MU` options\n",
    "First, from the options chain snapshots shown above, fill in the `missing` values for various parameters that we will use to compute the price of the contract, and to compute `The Greeks`:"
   ]
  },
  {
   "cell_type": "code",
   "execution_count": 3,
   "id": "696e059c-4b4e-4224-9a5c-502c992a4782",
   "metadata": {
    "tags": []
   },
   "outputs": [],
   "source": [
    "Sₒ = 67.30; # initial share price\n",
    "IV_call = 0.3453;\n",
    "IV_put = 0.3631;\n",
    "premium_put = 2.38;\n",
    "premium_call = 2.58;\n",
    "K_call = 70.0\n",
    "K_put = 65.0;"
   ]
  },
  {
   "cell_type": "markdown",
   "id": "43a8d5a1-f6f4-4008-a839-eae1819f91d7",
   "metadata": {},
   "source": [
    "Use the `build(...)` method to construct an instances of the `MyAmericanPutContractModel` and `MyAmericanCallContractModel` models, which we'll use to model the contracts. \n",
    "* The `build(...)` method requirse that we pass in values for the strike price `K`, a value for the `premium`, the sense (`sense = 1` for now, we'll correct for this in a bit) and `copy = 1`"
   ]
  },
  {
   "cell_type": "code",
   "execution_count": 4,
   "id": "a7222108-ccd4-463d-883b-622f0cb46e94",
   "metadata": {
    "tags": []
   },
   "outputs": [],
   "source": [
    "put_contract_model = build(MyAmericanPutContractModel, (\n",
    "            K = K_put, premium = premium_put, sense = 1, copy = 1\n",
    "));\n",
    "\n",
    "call_contract_model = build(MyAmericanCallContractModel, (\n",
    "            K = K_call, premium = premium_call, sense = 1, copy = 1\n",
    "));"
   ]
  },
  {
   "cell_type": "markdown",
   "id": "25d71020-cc47-4493-a4f0-af5105b3774b",
   "metadata": {},
   "source": [
    "## Task 2: Compute the price of `52-DTE` options on `MU`\n",
    "Next, let's build instances of the `MyAdjacencyBasedCRREquityPriceTree` type for the `call` and `put` contracts, and populate the values in the tree using the `populate(...)` method. See the `L10a contract pricing` example for help with the parameters and syntax"
   ]
  },
  {
   "cell_type": "code",
   "execution_count": 5,
   "id": "036c1bc5-2235-4946-9bea-ab40a4ca56f5",
   "metadata": {
    "tags": []
   },
   "outputs": [],
   "source": [
    "treemodel_call = build(MyAdjacencyBasedCRREquityPriceTree, \n",
    "    (μ = r̄, T = DTE, σ = IV_call)) |> (x-> populate(x, Sₒ = Sₒ, h = h));\n",
    "\n",
    "treemodel_put = build(MyAdjacencyBasedCRREquityPriceTree, \n",
    "    (μ = r̄, T = DTE, σ = IV_put)) |> (x-> populate(x, Sₒ = Sₒ, h = h));"
   ]
  },
  {
   "cell_type": "markdown",
   "id": "b46a6858-df87-43f7-b45b-4922c80d93e8",
   "metadata": {},
   "source": [
    "Finally, we can compute the premium for the `put` and `call` contracts by passing the `treemodel_put` and `treemodel_call` instances (which holds the risk-neutral simulation of the share price) and contract model instances to the `premium(...)` function.\n",
    "\n",
    "* Store the premium for the `call` contract in the `premium_call` variable, and the premium for the `put` contract in the `premium_put` variable "
   ]
  },
  {
   "cell_type": "code",
   "execution_count": 6,
   "id": "baca7dcb-bfdc-436c-96e2-8e371d816f7b",
   "metadata": {
    "tags": []
   },
   "outputs": [
    {
     "data": {
      "text/plain": [
       "2.5636879100484906"
      ]
     },
     "execution_count": 6,
     "metadata": {},
     "output_type": "execute_result"
    }
   ],
   "source": [
    "premium_call = premium(call_contract_model, treemodel_call)"
   ]
  },
  {
   "cell_type": "code",
   "execution_count": 7,
   "id": "bc875a7a-1797-4c57-939f-304f900b5422",
   "metadata": {
    "tags": []
   },
   "outputs": [
    {
     "data": {
      "text/plain": [
       "2.407174820886767"
      ]
     },
     "execution_count": 7,
     "metadata": {},
     "output_type": "execute_result"
    }
   ],
   "source": [
    "premium_put = premium(put_contract_model, treemodel_put)"
   ]
  },
  {
   "cell_type": "markdown",
   "id": "5a5ecd9d-7383-47a7-9590-4c1698d6792f",
   "metadata": {},
   "source": [
    "## Task 3: Compute the `delta` for `MU` option contract\n",
    "We can compute a value for `delta` using the `delta(...)` function:"
   ]
  },
  {
   "cell_type": "markdown",
   "id": "991126d1-7c27-4d3d-970c-d6a89af632c3",
   "metadata": {},
   "source": [
    "```julia\n",
    "function delta(contract::Y; h::Int64=2, T::Float64=(1 / 365), \n",
    "        σ::Float64=0.15, Sₒ::Float64=1.0, μ::Float64=0.0015, \n",
    "        choice::Function=_rational) -> Float64 where {Y<:AbstractContractModel}\n",
    "```"
   ]
  },
  {
   "cell_type": "markdown",
   "id": "4aa42813-3b7b-4461-8c02-20815a6ecb99",
   "metadata": {},
   "source": [
    "Compute `delta` values for the `call` and `put` contracts using the `delta(...)` function:"
   ]
  },
  {
   "cell_type": "code",
   "execution_count": 8,
   "id": "0c7079ed-d7ca-4743-ad85-ee12d5f9da84",
   "metadata": {
    "tags": []
   },
   "outputs": [
    {
     "data": {
      "text/plain": [
       "-0.4488676578232904"
      ]
     },
     "execution_count": 8,
     "metadata": {},
     "output_type": "execute_result"
    }
   ],
   "source": [
    "delta_call = θ*delta(call_contract_model, h = h, T = DTE, σ = IV_call, Sₒ = Sₒ, μ = r̄)"
   ]
  },
  {
   "cell_type": "code",
   "execution_count": 9,
   "id": "39442594-a814-4cc7-bbb0-caa09cf526eb",
   "metadata": {
    "tags": []
   },
   "outputs": [
    {
     "data": {
      "text/plain": [
       "0.3381451644810958"
      ]
     },
     "execution_count": 9,
     "metadata": {},
     "output_type": "execute_result"
    }
   ],
   "source": [
    "delta_put = θ*delta(put_contract_model, h = h, T = DTE, σ = IV_put, Sₒ = Sₒ, μ = r̄)"
   ]
  },
  {
   "cell_type": "markdown",
   "id": "6d46c0a8-ded0-4038-8618-398cc45e1e70",
   "metadata": {},
   "source": [
    "## Task 4: Compute the `theta` for `MU` option contract\n",
    "\n",
    "We can compute a value for `theta` using the `theta(...)` function:\n",
    "\n",
    "```julia\n",
    "function theta(contract::Y; h::Int64=2, T::Float64=(1 / 365), \n",
    "        σ::Float64=0.15, Sₒ::Float64=1.0, μ::Float64=0.0015, \n",
    "        choice::Function=_rational) -> Float64 where {Y<:AbstractContractModel}\n",
    "```"
   ]
  },
  {
   "cell_type": "markdown",
   "id": "da7ef45f-41fa-473f-ba7a-d29ef286b7de",
   "metadata": {},
   "source": [
    "Compute `theta` values for the `call` and `put` contracts using the `theta(...)` function:"
   ]
  },
  {
   "cell_type": "code",
   "execution_count": 10,
   "id": "ff6006a0-0e4c-41c2-94d4-369c25045f48",
   "metadata": {
    "tags": []
   },
   "outputs": [
    {
     "data": {
      "text/plain": [
       "0.03684985592234691"
      ]
     },
     "execution_count": 10,
     "metadata": {},
     "output_type": "execute_result"
    }
   ],
   "source": [
    "theta_call = θ*theta(call_contract_model, h = h, T = DTE, σ = IV_call, Sₒ = Sₒ, μ = r̄)"
   ]
  },
  {
   "cell_type": "code",
   "execution_count": 11,
   "id": "048bf311-8bb5-4350-807e-f74895c6f03c",
   "metadata": {
    "tags": []
   },
   "outputs": [
    {
     "data": {
      "text/plain": [
       "0.030375059453600084"
      ]
     },
     "execution_count": 11,
     "metadata": {},
     "output_type": "execute_result"
    }
   ],
   "source": [
    "theta_put = θ*theta(put_contract_model, h = h, T = DTE, σ = IV_put, Sₒ = Sₒ, μ = r̄)"
   ]
  },
  {
   "cell_type": "code",
   "execution_count": null,
   "id": "aa728adf-e882-45f1-8c64-311793f8f6df",
   "metadata": {},
   "outputs": [],
   "source": []
  }
 ],
 "metadata": {
  "kernelspec": {
   "display_name": "Julia 1.9.3",
   "language": "julia",
   "name": "julia-1.9"
  },
  "language_info": {
   "file_extension": ".jl",
   "mimetype": "application/julia",
   "name": "julia",
   "version": "1.9.3"
  }
 },
 "nbformat": 4,
 "nbformat_minor": 5
}
